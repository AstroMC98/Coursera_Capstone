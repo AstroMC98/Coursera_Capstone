{
  "nbformat": 4,
  "nbformat_minor": 0,
  "metadata": {
    "colab": {
      "name": "Coursera_Capstone_Git.ipynb",
      "provenance": []
    },
    "kernelspec": {
      "name": "python3",
      "display_name": "Python 3"
    }
  },
  "cells": [
    {
<<<<<<< HEAD
=======
<<<<<<< HEAD
>>>>>>> 04ca73fd08b15b339b75f4cc336f8ca4f72e6e18
      "cell_type": "markdown",
      "metadata": {
        "id": "je3kWTiFTa9v",
        "colab_type": "text"
      },
      "source": [
        "This notebook is inline with initial requirements for this capstone project"
      ]
    },
    {
<<<<<<< HEAD
=======
=======
>>>>>>> 64f1c3443db0aa34bfc1435d9f78e43d84a0a87a
>>>>>>> 04ca73fd08b15b339b75f4cc336f8ca4f72e6e18
      "cell_type": "code",
      "metadata": {
        "id": "UqQDMcCBLFpj",
        "colab_type": "code",
        "colab": {}
      },
      "source": [
        "import pandas as pd\n",
        "import numpy as np"
      ],
<<<<<<< HEAD
      "execution_count": 3,
=======
      "execution_count": 1,
>>>>>>> 04ca73fd08b15b339b75f4cc336f8ca4f72e6e18
      "outputs": []
    },
    {
      "cell_type": "code",
      "metadata": {
        "id": "J5Upc1hALJUa",
        "colab_type": "code",
        "colab": {
          "base_uri": "https://localhost:8080/",
          "height": 35
        },
<<<<<<< HEAD
        "outputId": "6cdd52a0-aa3a-412f-f8a5-1617247b9101"
=======
        "outputId": "fc8f4fd7-20ff-4df0-df5c-03eada0bc67b"
>>>>>>> 04ca73fd08b15b339b75f4cc336f8ca4f72e6e18
      },
      "source": [
        "print(\"Hello Capstone Project Course!\")"
      ],
<<<<<<< HEAD
      "execution_count": 4,
=======
      "execution_count": 2,
>>>>>>> 04ca73fd08b15b339b75f4cc336f8ca4f72e6e18
      "outputs": [
        {
          "output_type": "stream",
          "text": [
            "Hello Capstone Project Course!\n"
          ],
          "name": "stdout"
        }
      ]
    },
    {
      "cell_type": "code",
      "metadata": {
        "id": "pgiYCePhLOHq",
        "colab_type": "code",
        "colab": {}
      },
      "source": [
        ""
      ],
      "execution_count": null,
      "outputs": []
    }
  ]
}